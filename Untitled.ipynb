{
 "cells": [
  {
   "cell_type": "code",
   "execution_count": 1,
   "id": "f9f8000e",
   "metadata": {},
   "outputs": [
    {
     "name": "stdout",
     "output_type": "stream",
     "text": [
      "Collecting spread\n",
      "  Downloading spread-1.1.20.tar.gz (9.8 kB)\n",
      "Building wheels for collected packages: spread\n",
      "  Building wheel for spread (setup.py): started\n",
      "  Building wheel for spread (setup.py): finished with status 'error'\n",
      "  Running setup.py clean for spread\n",
      "Failed to build spread\n",
      "Installing collected packages: spread\n",
      "    Running setup.py install for spread: started\n",
      "    Running setup.py install for spread: finished with status 'error'\n"
     ]
    },
    {
     "name": "stderr",
     "output_type": "stream",
     "text": [
      "  ERROR: Command errored out with exit status 1:\n",
      "   command: 'C:\\Users\\User\\anaconda3\\python.exe' -u -c 'import io, os, sys, setuptools, tokenize; sys.argv[0] = '\"'\"'C:\\\\Users\\\\User\\\\AppData\\\\Local\\\\Temp\\\\pip-install-sir2emyf\\\\spread_a3295d3339664aa5b2222499d497d98d\\\\setup.py'\"'\"'; __file__='\"'\"'C:\\\\Users\\\\User\\\\AppData\\\\Local\\\\Temp\\\\pip-install-sir2emyf\\\\spread_a3295d3339664aa5b2222499d497d98d\\\\setup.py'\"'\"';f = getattr(tokenize, '\"'\"'open'\"'\"', open)(__file__) if os.path.exists(__file__) else io.StringIO('\"'\"'from setuptools import setup; setup()'\"'\"');code = f.read().replace('\"'\"'\\r\\n'\"'\"', '\"'\"'\\n'\"'\"');f.close();exec(compile(code, __file__, '\"'\"'exec'\"'\"'))' bdist_wheel -d 'C:\\Users\\User\\AppData\\Local\\Temp\\pip-wheel-1jvpek6f'\n",
      "       cwd: C:\\Users\\User\\AppData\\Local\\Temp\\pip-install-sir2emyf\\spread_a3295d3339664aa5b2222499d497d98d\\\n",
      "  Complete output (22 lines):\n",
      "  running bdist_wheel\n",
      "  running build\n",
      "  running build_py\n",
      "  creating build\n",
      "  creating build\\lib\n",
      "  creating build\\lib\\spread\n",
      "  copying spread\\main.py -> build\\lib\\spread\n",
      "  copying spread\\porter.py -> build\\lib\\spread\n",
      "  copying spread\\__init__.py -> build\\lib\\spread\n",
      "  installing to build\\bdist.win-amd64\\wheel\n",
      "  running install\n",
      "  running install_lib\n",
      "  creating build\\bdist.win-amd64\n",
      "  creating build\\bdist.win-amd64\\wheel\n",
      "  creating build\\bdist.win-amd64\\wheel\\spread\n",
      "  copying build\\lib\\spread\\main.py -> build\\bdist.win-amd64\\wheel\\.\\spread\n",
      "  copying build\\lib\\spread\\porter.py -> build\\bdist.win-amd64\\wheel\\.\\spread\n",
      "  copying build\\lib\\spread\\__init__.py -> build\\bdist.win-amd64\\wheel\\.\\spread\n",
      "  running install_data\n",
      "  creating build\\bdist.win-amd64\\wheel\\spread-1.1.20.data\n",
      "  creating build\\bdist.win-amd64\\wheel\\spread-1.1.20.data\\data\n",
      "  error: can't copy 'LICENSE': doesn't exist or not a regular file\n",
      "  ----------------------------------------\n",
      "  ERROR: Failed building wheel for spread\n",
      "    ERROR: Command errored out with exit status 1:\n",
      "     command: 'C:\\Users\\User\\anaconda3\\python.exe' -u -c 'import io, os, sys, setuptools, tokenize; sys.argv[0] = '\"'\"'C:\\\\Users\\\\User\\\\AppData\\\\Local\\\\Temp\\\\pip-install-sir2emyf\\\\spread_a3295d3339664aa5b2222499d497d98d\\\\setup.py'\"'\"'; __file__='\"'\"'C:\\\\Users\\\\User\\\\AppData\\\\Local\\\\Temp\\\\pip-install-sir2emyf\\\\spread_a3295d3339664aa5b2222499d497d98d\\\\setup.py'\"'\"';f = getattr(tokenize, '\"'\"'open'\"'\"', open)(__file__) if os.path.exists(__file__) else io.StringIO('\"'\"'from setuptools import setup; setup()'\"'\"');code = f.read().replace('\"'\"'\\r\\n'\"'\"', '\"'\"'\\n'\"'\"');f.close();exec(compile(code, __file__, '\"'\"'exec'\"'\"'))' install --record 'C:\\Users\\User\\AppData\\Local\\Temp\\pip-record-f5ti_1wk\\install-record.txt' --single-version-externally-managed --compile --install-headers 'C:\\Users\\User\\anaconda3\\Include\\spread'\n",
      "         cwd: C:\\Users\\User\\AppData\\Local\\Temp\\pip-install-sir2emyf\\spread_a3295d3339664aa5b2222499d497d98d\\\n",
      "    Complete output (29 lines):\n",
      "    running install\n",
      "    running build\n",
      "    running build_py\n",
      "    creating build\n",
      "    creating build\\lib\n",
      "    creating build\\lib\\spread\n",
      "    copying spread\\main.py -> build\\lib\\spread\n",
      "    copying spread\\porter.py -> build\\lib\\spread\n",
      "    copying spread\\__init__.py -> build\\lib\\spread\n",
      "    running install_lib\n",
      "    creating C:\\Users\\User\\anaconda3\\Lib\\site-packages\\spread\n",
      "    copying build\\lib\\spread\\main.py -> C:\\Users\\User\\anaconda3\\Lib\\site-packages\\spread\n",
      "    copying build\\lib\\spread\\porter.py -> C:\\Users\\User\\anaconda3\\Lib\\site-packages\\spread\n",
      "    copying build\\lib\\spread\\__init__.py -> C:\\Users\\User\\anaconda3\\Lib\\site-packages\\spread\n",
      "    byte-compiling C:\\Users\\User\\anaconda3\\Lib\\site-packages\\spread\\main.py to main.cpython-39.pyc\n",
      "      File \"C:\\Users\\User\\anaconda3\\Lib\\site-packages\\spread\\main.py\", line 198\n",
      "        if i % int(len(li)/10) == (int(len(li)/10) - 1): print \"Two grams: \" + str(i) + \" / \" + str(len(li))\n",
      "                                                               ^\n",
      "    SyntaxError: invalid syntax\n",
      "    \n",
      "    byte-compiling C:\\Users\\User\\anaconda3\\Lib\\site-packages\\spread\\porter.py to porter.cpython-39.pyc\n",
      "      File \"C:\\Users\\User\\anaconda3\\Lib\\site-packages\\spread\\porter.py\", line 367\n",
      "        print output,\n",
      "              ^\n",
      "    SyntaxError: Missing parentheses in call to 'print'. Did you mean print(output, end=\" \")?\n",
      "    \n",
      "    byte-compiling C:\\Users\\User\\anaconda3\\Lib\\site-packages\\spread\\__init__.py to __init__.cpython-39.pyc\n",
      "    running install_data\n",
      "    error: can't copy 'LICENSE': doesn't exist or not a regular file\n",
      "    ----------------------------------------\n",
      "ERROR: Command errored out with exit status 1: 'C:\\Users\\User\\anaconda3\\python.exe' -u -c 'import io, os, sys, setuptools, tokenize; sys.argv[0] = '\"'\"'C:\\\\Users\\\\User\\\\AppData\\\\Local\\\\Temp\\\\pip-install-sir2emyf\\\\spread_a3295d3339664aa5b2222499d497d98d\\\\setup.py'\"'\"'; __file__='\"'\"'C:\\\\Users\\\\User\\\\AppData\\\\Local\\\\Temp\\\\pip-install-sir2emyf\\\\spread_a3295d3339664aa5b2222499d497d98d\\\\setup.py'\"'\"';f = getattr(tokenize, '\"'\"'open'\"'\"', open)(__file__) if os.path.exists(__file__) else io.StringIO('\"'\"'from setuptools import setup; setup()'\"'\"');code = f.read().replace('\"'\"'\\r\\n'\"'\"', '\"'\"'\\n'\"'\"');f.close();exec(compile(code, __file__, '\"'\"'exec'\"'\"'))' install --record 'C:\\Users\\User\\AppData\\Local\\Temp\\pip-record-f5ti_1wk\\install-record.txt' --single-version-externally-managed --compile --install-headers 'C:\\Users\\User\\anaconda3\\Include\\spread' Check the logs for full command output.\n"
     ]
    }
   ],
   "source": [
    "!pip install spread"
   ]
  },
  {
   "cell_type": "code",
   "execution_count": 2,
   "id": "1137f155",
   "metadata": {},
   "outputs": [
    {
     "name": "stdout",
     "output_type": "stream",
     "text": [
      "Collecting gspread\n",
      "  Downloading gspread-5.7.2-py3-none-any.whl (40 kB)\n",
      "Collecting google-auth>=1.12.0\n",
      "  Downloading google_auth-2.16.0-py2.py3-none-any.whl (177 kB)\n",
      "Collecting google-auth-oauthlib>=0.4.1\n",
      "  Downloading google_auth_oauthlib-1.0.0-py2.py3-none-any.whl (18 kB)\n",
      "Collecting rsa<5,>=3.1.4\n",
      "  Downloading rsa-4.9-py3-none-any.whl (34 kB)\n",
      "Collecting pyasn1-modules>=0.2.1\n",
      "  Downloading pyasn1_modules-0.2.8-py2.py3-none-any.whl (155 kB)\n",
      "Collecting cachetools<6.0,>=2.0.0\n",
      "  Downloading cachetools-5.3.0-py3-none-any.whl (9.3 kB)\n",
      "Requirement already satisfied: six>=1.9.0 in c:\\users\\user\\anaconda3\\lib\\site-packages (from google-auth>=1.12.0->gspread) (1.16.0)\n",
      "Collecting requests-oauthlib>=0.7.0\n",
      "  Downloading requests_oauthlib-1.3.1-py2.py3-none-any.whl (23 kB)\n",
      "Collecting pyasn1<0.5.0,>=0.4.6\n",
      "  Downloading pyasn1-0.4.8-py2.py3-none-any.whl (77 kB)\n",
      "Requirement already satisfied: requests>=2.0.0 in c:\\users\\user\\anaconda3\\lib\\site-packages (from requests-oauthlib>=0.7.0->google-auth-oauthlib>=0.4.1->gspread) (2.26.0)\n",
      "Collecting oauthlib>=3.0.0\n",
      "  Downloading oauthlib-3.2.2-py3-none-any.whl (151 kB)\n",
      "Requirement already satisfied: charset-normalizer~=2.0.0 in c:\\users\\user\\anaconda3\\lib\\site-packages (from requests>=2.0.0->requests-oauthlib>=0.7.0->google-auth-oauthlib>=0.4.1->gspread) (2.0.4)\n",
      "Requirement already satisfied: idna<4,>=2.5 in c:\\users\\user\\anaconda3\\lib\\site-packages (from requests>=2.0.0->requests-oauthlib>=0.7.0->google-auth-oauthlib>=0.4.1->gspread) (3.2)\n",
      "Requirement already satisfied: urllib3<1.27,>=1.21.1 in c:\\users\\user\\anaconda3\\lib\\site-packages (from requests>=2.0.0->requests-oauthlib>=0.7.0->google-auth-oauthlib>=0.4.1->gspread) (1.26.7)\n",
      "Requirement already satisfied: certifi>=2017.4.17 in c:\\users\\user\\anaconda3\\lib\\site-packages (from requests>=2.0.0->requests-oauthlib>=0.7.0->google-auth-oauthlib>=0.4.1->gspread) (2021.10.8)\n",
      "Installing collected packages: pyasn1, rsa, pyasn1-modules, oauthlib, cachetools, requests-oauthlib, google-auth, google-auth-oauthlib, gspread\n",
      "Successfully installed cachetools-5.3.0 google-auth-2.16.0 google-auth-oauthlib-1.0.0 gspread-5.7.2 oauthlib-3.2.2 pyasn1-0.4.8 pyasn1-modules-0.2.8 requests-oauthlib-1.3.1 rsa-4.9\n"
     ]
    }
   ],
   "source": [
    "!pip install gspread"
   ]
  },
  {
   "cell_type": "code",
   "execution_count": 3,
   "id": "3864e854",
   "metadata": {},
   "outputs": [],
   "source": [
    "import pandas as pd\n",
    "import gspread"
   ]
  },
  {
   "cell_type": "code",
   "execution_count": 6,
   "id": "3ba2dfe0",
   "metadata": {},
   "outputs": [],
   "source": [
    "gc = gspread.service_account(filename = \"C:\\\\Users\\\\User\\\\Downloads\\\\assignment-ml-18fcf2523426.json\")"
   ]
  },
  {
   "cell_type": "code",
   "execution_count": 7,
   "id": "c59e9ced",
   "metadata": {},
   "outputs": [
    {
     "data": {
      "text/plain": [
       "<gspread.client.Client at 0x23d1eb3d400>"
      ]
     },
     "execution_count": 7,
     "metadata": {},
     "output_type": "execute_result"
    }
   ],
   "source": [
    "gc"
   ]
  },
  {
   "cell_type": "code",
   "execution_count": 8,
   "id": "2bb90fc1",
   "metadata": {},
   "outputs": [],
   "source": [
    "sheet = gc.open_by_url(\"https://docs.google.com/spreadsheets/d/1-_RZlzHP7XQO_deZa6xc9OqFwYIyieI2-qa4bzaw38k/edit?usp=sharing\")"
   ]
  },
  {
   "cell_type": "code",
   "execution_count": 9,
   "id": "f68e5383",
   "metadata": {},
   "outputs": [
    {
     "data": {
      "text/plain": [
       "<Spreadsheet 'Boost' id:1-_RZlzHP7XQO_deZa6xc9OqFwYIyieI2-qa4bzaw38k>"
      ]
     },
     "execution_count": 9,
     "metadata": {},
     "output_type": "execute_result"
    }
   ],
   "source": [
    "sheet"
   ]
  },
  {
   "cell_type": "code",
   "execution_count": 12,
   "id": "8fa5c15d",
   "metadata": {},
   "outputs": [],
   "source": [
    "ws = sheet.worksheet(\"Sheet1\")"
   ]
  },
  {
   "cell_type": "code",
   "execution_count": 13,
   "id": "9f94243c",
   "metadata": {},
   "outputs": [
    {
     "data": {
      "text/plain": [
       "<Worksheet 'Sheet1' id:0>"
      ]
     },
     "execution_count": 13,
     "metadata": {},
     "output_type": "execute_result"
    }
   ],
   "source": [
    "ws"
   ]
  },
  {
   "cell_type": "code",
   "execution_count": 15,
   "id": "b72dc439",
   "metadata": {},
   "outputs": [],
   "source": [
    "df = pd.DataFrame(ws.get_all_records())"
   ]
  },
  {
   "cell_type": "code",
   "execution_count": null,
   "id": "c89298e9",
   "metadata": {},
   "outputs": [],
   "source": [
    "df"
   ]
  }
 ],
 "metadata": {
  "kernelspec": {
   "display_name": "Python 3 (ipykernel)",
   "language": "python",
   "name": "python3"
  },
  "language_info": {
   "codemirror_mode": {
    "name": "ipython",
    "version": 3
   },
   "file_extension": ".py",
   "mimetype": "text/x-python",
   "name": "python",
   "nbconvert_exporter": "python",
   "pygments_lexer": "ipython3",
   "version": "3.9.7"
  }
 },
 "nbformat": 4,
 "nbformat_minor": 5
}
